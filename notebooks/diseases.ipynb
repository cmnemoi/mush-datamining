{
 "cells": [
  {
   "cell_type": "markdown",
   "metadata": {},
   "source": [
    "# Diseases notebook\n",
    "\n",
    "The goal of this notebook is to estimate odds about disease apperance for each cause from SDF logs."
   ]
  },
  {
   "cell_type": "markdown",
   "metadata": {},
   "source": [
    "\n",
    "First, let's import libraries and the logs :"
   ]
  },
  {
   "cell_type": "code",
   "execution_count": 1,
   "metadata": {},
   "outputs": [],
   "source": [
    "import pandas as pd\n",
    "import utils"
   ]
  },
  {
   "cell_type": "code",
   "execution_count": 2,
   "metadata": {},
   "outputs": [],
   "source": [
    "logs = utils.get_player_logs()"
   ]
  },
  {
   "cell_type": "code",
   "execution_count": 3,
   "metadata": {},
   "outputs": [
    {
     "data": {
      "text/html": [
       "<div>\n",
       "<style scoped>\n",
       "    .dataframe tbody tr th:only-of-type {\n",
       "        vertical-align: middle;\n",
       "    }\n",
       "\n",
       "    .dataframe tbody tr th {\n",
       "        vertical-align: top;\n",
       "    }\n",
       "\n",
       "    .dataframe thead th {\n",
       "        text-align: right;\n",
       "    }\n",
       "</style>\n",
       "<table border=\"1\" class=\"dataframe\">\n",
       "  <thead>\n",
       "    <tr style=\"text-align: right;\">\n",
       "      <th></th>\n",
       "      <th>Ship</th>\n",
       "      <th>Character</th>\n",
       "      <th>Day.Cycle</th>\n",
       "      <th>Action</th>\n",
       "      <th>Log</th>\n",
       "      <th>Day</th>\n",
       "      <th>Cycle</th>\n",
       "    </tr>\n",
       "  </thead>\n",
       "  <tbody>\n",
       "    <tr>\n",
       "      <th>0</th>\n",
       "      <td>1</td>\n",
       "      <td>Janice</td>\n",
       "      <td>2.4</td>\n",
       "      <td>NEW_CREW_MEMBER</td>\n",
       "      <td>*Janice* s'est éveillée de son si long sommeil.</td>\n",
       "      <td>2.0</td>\n",
       "      <td>4.0</td>\n",
       "    </tr>\n",
       "    <tr>\n",
       "      <th>1</th>\n",
       "      <td>1</td>\n",
       "      <td>Janice</td>\n",
       "      <td>2.4</td>\n",
       "      <td>CHARACTER_LEFT</td>\n",
       "      <td>*Janice* est sortie.</td>\n",
       "      <td>2.0</td>\n",
       "      <td>4.0</td>\n",
       "    </tr>\n",
       "    <tr>\n",
       "      <th>2</th>\n",
       "      <td>1</td>\n",
       "      <td>Janice</td>\n",
       "      <td>2.4</td>\n",
       "      <td>CHARACTER_ENTERED</td>\n",
       "      <td>*Janice* est entrée.</td>\n",
       "      <td>2.0</td>\n",
       "      <td>4.0</td>\n",
       "    </tr>\n",
       "    <tr>\n",
       "      <th>3</th>\n",
       "      <td>1</td>\n",
       "      <td>Janice</td>\n",
       "      <td>2.4</td>\n",
       "      <td>CUDDLE_OTHER</td>\n",
       "      <td>*Janice* réconforte *Finola*, ça ira mieux de...</td>\n",
       "      <td>2.0</td>\n",
       "      <td>4.0</td>\n",
       "    </tr>\n",
       "    <tr>\n",
       "      <th>4</th>\n",
       "      <td>1</td>\n",
       "      <td>Janice</td>\n",
       "      <td>2.4</td>\n",
       "      <td>CHARACTER_LEFT</td>\n",
       "      <td>*Janice* est sortie.</td>\n",
       "      <td>2.0</td>\n",
       "      <td>4.0</td>\n",
       "    </tr>\n",
       "  </tbody>\n",
       "</table>\n",
       "</div>"
      ],
      "text/plain": [
       "   Ship Character  Day.Cycle             Action  \\\n",
       "0     1    Janice        2.4    NEW_CREW_MEMBER   \n",
       "1     1    Janice        2.4     CHARACTER_LEFT   \n",
       "2     1    Janice        2.4  CHARACTER_ENTERED   \n",
       "3     1    Janice        2.4       CUDDLE_OTHER   \n",
       "4     1    Janice        2.4     CHARACTER_LEFT   \n",
       "\n",
       "                                                 Log  Day  Cycle  \n",
       "0    *Janice* s'est éveillée de son si long sommeil.  2.0    4.0  \n",
       "1                               *Janice* est sortie.  2.0    4.0  \n",
       "2                               *Janice* est entrée.  2.0    4.0  \n",
       "3   *Janice* réconforte *Finola*, ça ira mieux de...  2.0    4.0  \n",
       "4                               *Janice* est sortie.  2.0    4.0  "
      ]
     },
     "execution_count": 3,
     "metadata": {},
     "output_type": "execute_result"
    }
   ],
   "source": [
    "logs.head()"
   ]
  },
  {
   "cell_type": "markdown",
   "metadata": {},
   "source": [
    "## Trauma\n",
    "Players can catch diseases and disorders by witnessing a death. We will call this event a **Trauma**.\n",
    "We want to estimate :\n",
    "- the odds of getting a trauma\n",
    "- the mass function of the diseases/disorders (if the trauma event is drawn, what are the odds of getting a specific disease ?)"
   ]
  },
  {
   "cell_type": "markdown",
   "metadata": {},
   "source": [
    "### Trauma probability"
   ]
  },
  {
   "cell_type": "markdown",
   "metadata": {},
   "source": [
    "First, let's extract all the `fist kills` logs (a subset of death logs) :"
   ]
  },
  {
   "cell_type": "code",
   "execution_count": 4,
   "metadata": {},
   "outputs": [
    {
     "data": {
      "text/html": [
       "<div>\n",
       "<style scoped>\n",
       "    .dataframe tbody tr th:only-of-type {\n",
       "        vertical-align: middle;\n",
       "    }\n",
       "\n",
       "    .dataframe tbody tr th {\n",
       "        vertical-align: top;\n",
       "    }\n",
       "\n",
       "    .dataframe thead th {\n",
       "        text-align: right;\n",
       "    }\n",
       "</style>\n",
       "<table border=\"1\" class=\"dataframe\">\n",
       "  <thead>\n",
       "    <tr style=\"text-align: right;\">\n",
       "      <th></th>\n",
       "      <th>Ship</th>\n",
       "      <th>Character</th>\n",
       "      <th>Day.Cycle</th>\n",
       "      <th>Action</th>\n",
       "      <th>Log</th>\n",
       "      <th>Day</th>\n",
       "      <th>Cycle</th>\n",
       "    </tr>\n",
       "  </thead>\n",
       "  <tbody>\n",
       "    <tr>\n",
       "      <th>265</th>\n",
       "      <td>1</td>\n",
       "      <td>Janice</td>\n",
       "      <td>6.5</td>\n",
       "      <td>FIST_KILLED</td>\n",
       "      <td>*Janice* s'acharne sur *Eleesha*...qui rend s...</td>\n",
       "      <td>6.0</td>\n",
       "      <td>5.0</td>\n",
       "    </tr>\n",
       "    <tr>\n",
       "      <th>2177</th>\n",
       "      <td>2</td>\n",
       "      <td>Chao</td>\n",
       "      <td>4.5</td>\n",
       "      <td>FIST_KILLED</td>\n",
       "      <td>*Chao* s'acharne sur *Paola*...qui rend son d...</td>\n",
       "      <td>4.0</td>\n",
       "      <td>5.0</td>\n",
       "    </tr>\n",
       "    <tr>\n",
       "      <th>2209</th>\n",
       "      <td>2</td>\n",
       "      <td>Chao</td>\n",
       "      <td>4.7</td>\n",
       "      <td>FIST_KILLED</td>\n",
       "      <td>*Chao* s'acharne sur *Janice*...qui rend son ...</td>\n",
       "      <td>4.0</td>\n",
       "      <td>7.0</td>\n",
       "    </tr>\n",
       "    <tr>\n",
       "      <th>2810</th>\n",
       "      <td>2</td>\n",
       "      <td>Frieda</td>\n",
       "      <td>4.1</td>\n",
       "      <td>FIST_KILLED</td>\n",
       "      <td>*Frieda* s'acharne sur *Eleesha*...qui rend s...</td>\n",
       "      <td>4.0</td>\n",
       "      <td>1.0</td>\n",
       "    </tr>\n",
       "    <tr>\n",
       "      <th>3496</th>\n",
       "      <td>2</td>\n",
       "      <td>Kuan_Ti</td>\n",
       "      <td>6.6</td>\n",
       "      <td>FIST_KILLED</td>\n",
       "      <td>*Kuan Ti* s'acharne sur *Raluca*...qui rend s...</td>\n",
       "      <td>6.0</td>\n",
       "      <td>6.0</td>\n",
       "    </tr>\n",
       "    <tr>\n",
       "      <th>...</th>\n",
       "      <td>...</td>\n",
       "      <td>...</td>\n",
       "      <td>...</td>\n",
       "      <td>...</td>\n",
       "      <td>...</td>\n",
       "      <td>...</td>\n",
       "      <td>...</td>\n",
       "    </tr>\n",
       "    <tr>\n",
       "      <th>7723279</th>\n",
       "      <td>1707</td>\n",
       "      <td>Paola</td>\n",
       "      <td>1.8</td>\n",
       "      <td>FIST_KILLED</td>\n",
       "      <td>*Paola* s'acharne sur *Eleesha*...qui rend so...</td>\n",
       "      <td>1.0</td>\n",
       "      <td>8.0</td>\n",
       "    </tr>\n",
       "    <tr>\n",
       "      <th>7723404</th>\n",
       "      <td>1707</td>\n",
       "      <td>Ian</td>\n",
       "      <td>1.8</td>\n",
       "      <td>FIST_KILLED</td>\n",
       "      <td>*Ian* s'acharne sur *Chun*...qui rend son der...</td>\n",
       "      <td>1.0</td>\n",
       "      <td>8.0</td>\n",
       "    </tr>\n",
       "    <tr>\n",
       "      <th>7724967</th>\n",
       "      <td>1709</td>\n",
       "      <td>Kuan_Ti</td>\n",
       "      <td>3.5</td>\n",
       "      <td>FIST_KILLED</td>\n",
       "      <td>*Kuan Ti* s'acharne sur *Paola*...qui rend so...</td>\n",
       "      <td>3.0</td>\n",
       "      <td>5.0</td>\n",
       "    </tr>\n",
       "    <tr>\n",
       "      <th>7725273</th>\n",
       "      <td>1709</td>\n",
       "      <td>Janice</td>\n",
       "      <td>4.5</td>\n",
       "      <td>FIST_KILLED</td>\n",
       "      <td>*Janice* s'acharne sur *Terrence*...qui rend ...</td>\n",
       "      <td>4.0</td>\n",
       "      <td>5.0</td>\n",
       "    </tr>\n",
       "    <tr>\n",
       "      <th>7726146</th>\n",
       "      <td>1710</td>\n",
       "      <td>Stephen</td>\n",
       "      <td>2.4</td>\n",
       "      <td>FIST_KILLED</td>\n",
       "      <td>*Stephen* s'acharne sur *Raluca*...qui rend s...</td>\n",
       "      <td>2.0</td>\n",
       "      <td>4.0</td>\n",
       "    </tr>\n",
       "  </tbody>\n",
       "</table>\n",
       "<p>4702 rows × 7 columns</p>\n",
       "</div>"
      ],
      "text/plain": [
       "         Ship Character  Day.Cycle       Action  \\\n",
       "265         1    Janice        6.5  FIST_KILLED   \n",
       "2177        2      Chao        4.5  FIST_KILLED   \n",
       "2209        2      Chao        4.7  FIST_KILLED   \n",
       "2810        2    Frieda        4.1  FIST_KILLED   \n",
       "3496        2   Kuan_Ti        6.6  FIST_KILLED   \n",
       "...       ...       ...        ...          ...   \n",
       "7723279  1707     Paola        1.8  FIST_KILLED   \n",
       "7723404  1707       Ian        1.8  FIST_KILLED   \n",
       "7724967  1709   Kuan_Ti        3.5  FIST_KILLED   \n",
       "7725273  1709    Janice        4.5  FIST_KILLED   \n",
       "7726146  1710   Stephen        2.4  FIST_KILLED   \n",
       "\n",
       "                                                       Log  Day  Cycle  \n",
       "265       *Janice* s'acharne sur *Eleesha*...qui rend s...  6.0    5.0  \n",
       "2177      *Chao* s'acharne sur *Paola*...qui rend son d...  4.0    5.0  \n",
       "2209      *Chao* s'acharne sur *Janice*...qui rend son ...  4.0    7.0  \n",
       "2810      *Frieda* s'acharne sur *Eleesha*...qui rend s...  4.0    1.0  \n",
       "3496      *Kuan Ti* s'acharne sur *Raluca*...qui rend s...  6.0    6.0  \n",
       "...                                                    ...  ...    ...  \n",
       "7723279   *Paola* s'acharne sur *Eleesha*...qui rend so...  1.0    8.0  \n",
       "7723404   *Ian* s'acharne sur *Chun*...qui rend son der...  1.0    8.0  \n",
       "7724967   *Kuan Ti* s'acharne sur *Paola*...qui rend so...  3.0    5.0  \n",
       "7725273   *Janice* s'acharne sur *Terrence*...qui rend ...  4.0    5.0  \n",
       "7726146   *Stephen* s'acharne sur *Raluca*...qui rend s...  2.0    4.0  \n",
       "\n",
       "[4702 rows x 7 columns]"
      ]
     },
     "execution_count": 4,
     "metadata": {},
     "output_type": "execute_result"
    }
   ],
   "source": [
    "utils.find_all_actions_by_name(logs, \"FIST_KILLED\")"
   ]
  },
  {
   "cell_type": "markdown",
   "metadata": {},
   "source": [
    "Let's see if we can find the `Trauma` logs before or after the kill logs :"
   ]
  },
  {
   "cell_type": "code",
   "execution_count": 8,
   "metadata": {},
   "outputs": [
    {
     "data": {
      "text/html": [
       "<div>\n",
       "<style scoped>\n",
       "    .dataframe tbody tr th:only-of-type {\n",
       "        vertical-align: middle;\n",
       "    }\n",
       "\n",
       "    .dataframe tbody tr th {\n",
       "        vertical-align: top;\n",
       "    }\n",
       "\n",
       "    .dataframe thead th {\n",
       "        text-align: right;\n",
       "    }\n",
       "</style>\n",
       "<table border=\"1\" class=\"dataframe\">\n",
       "  <thead>\n",
       "    <tr style=\"text-align: right;\">\n",
       "      <th></th>\n",
       "      <th>Ship</th>\n",
       "      <th>Character</th>\n",
       "      <th>Day.Cycle</th>\n",
       "      <th>Action</th>\n",
       "      <th>Log</th>\n",
       "      <th>Day</th>\n",
       "      <th>Cycle</th>\n",
       "    </tr>\n",
       "  </thead>\n",
       "  <tbody>\n",
       "    <tr>\n",
       "      <th>2808</th>\n",
       "      <td>2</td>\n",
       "      <td>Frieda</td>\n",
       "      <td>4.1</td>\n",
       "      <td>TRAUMA_DISEASE</td>\n",
       "      <td>Ce que vous venez de voir vous a choqué. Vous...</td>\n",
       "      <td>4.0</td>\n",
       "      <td>1.0</td>\n",
       "    </tr>\n",
       "    <tr>\n",
       "      <th>2809</th>\n",
       "      <td>2</td>\n",
       "      <td>Frieda</td>\n",
       "      <td>4.1</td>\n",
       "      <td>DISEASED_PSY</td>\n",
       "      <td>Vous ne vous sentez pas très très bien... Vot...</td>\n",
       "      <td>4.0</td>\n",
       "      <td>1.0</td>\n",
       "    </tr>\n",
       "    <tr>\n",
       "      <th>2810</th>\n",
       "      <td>2</td>\n",
       "      <td>Frieda</td>\n",
       "      <td>4.1</td>\n",
       "      <td>FIST_KILLED</td>\n",
       "      <td>*Frieda* s'acharne sur *Eleesha*...qui rend s...</td>\n",
       "      <td>4.0</td>\n",
       "      <td>1.0</td>\n",
       "    </tr>\n",
       "    <tr>\n",
       "      <th>2811</th>\n",
       "      <td>2</td>\n",
       "      <td>Frieda</td>\n",
       "      <td>4.1</td>\n",
       "      <td>CHARACTER_LEFT</td>\n",
       "      <td>*Frieda* est sortie.</td>\n",
       "      <td>4.0</td>\n",
       "      <td>1.0</td>\n",
       "    </tr>\n",
       "    <tr>\n",
       "      <th>2812</th>\n",
       "      <td>2</td>\n",
       "      <td>Frieda</td>\n",
       "      <td>4.1</td>\n",
       "      <td>CHARACTER_ENTERED</td>\n",
       "      <td>*Frieda* est entrée.</td>\n",
       "      <td>4.0</td>\n",
       "      <td>1.0</td>\n",
       "    </tr>\n",
       "  </tbody>\n",
       "</table>\n",
       "</div>"
      ],
      "text/plain": [
       "      Ship Character  Day.Cycle             Action  \\\n",
       "2808     2    Frieda        4.1     TRAUMA_DISEASE   \n",
       "2809     2    Frieda        4.1       DISEASED_PSY   \n",
       "2810     2    Frieda        4.1        FIST_KILLED   \n",
       "2811     2    Frieda        4.1     CHARACTER_LEFT   \n",
       "2812     2    Frieda        4.1  CHARACTER_ENTERED   \n",
       "\n",
       "                                                    Log  Day  Cycle  \n",
       "2808   Ce que vous venez de voir vous a choqué. Vous...  4.0    1.0  \n",
       "2809   Vous ne vous sentez pas très très bien... Vot...  4.0    1.0  \n",
       "2810   *Frieda* s'acharne sur *Eleesha*...qui rend s...  4.0    1.0  \n",
       "2811                               *Frieda* est sortie.  4.0    1.0  \n",
       "2812                               *Frieda* est entrée.  4.0    1.0  "
      ]
     },
     "execution_count": 8,
     "metadata": {},
     "output_type": "execute_result"
    }
   ],
   "source": [
    "logs.loc[2808:2812]"
   ]
  },
  {
   "cell_type": "markdown",
   "metadata": {},
   "source": [
    "We see on this first example that the `TRAUMA_DISEASE` log is 2 logs before the kill log, and the `DISEASED` event log is the log just before."
   ]
  },
  {
   "cell_type": "code",
   "execution_count": 10,
   "metadata": {},
   "outputs": [
    {
     "data": {
      "text/html": [
       "<div>\n",
       "<style scoped>\n",
       "    .dataframe tbody tr th:only-of-type {\n",
       "        vertical-align: middle;\n",
       "    }\n",
       "\n",
       "    .dataframe tbody tr th {\n",
       "        vertical-align: top;\n",
       "    }\n",
       "\n",
       "    .dataframe thead th {\n",
       "        text-align: right;\n",
       "    }\n",
       "</style>\n",
       "<table border=\"1\" class=\"dataframe\">\n",
       "  <thead>\n",
       "    <tr style=\"text-align: right;\">\n",
       "      <th></th>\n",
       "      <th>Ship</th>\n",
       "      <th>Character</th>\n",
       "      <th>Day.Cycle</th>\n",
       "      <th>Action</th>\n",
       "      <th>Log</th>\n",
       "      <th>Day</th>\n",
       "      <th>Cycle</th>\n",
       "    </tr>\n",
       "  </thead>\n",
       "  <tbody>\n",
       "    <tr>\n",
       "      <th>263</th>\n",
       "      <td>1</td>\n",
       "      <td>Janice</td>\n",
       "      <td>6.5</td>\n",
       "      <td>FIST_WOUNDED</td>\n",
       "      <td>*Janice* met une terrible baigne à *Eleesha*...</td>\n",
       "      <td>6.0</td>\n",
       "      <td>5.0</td>\n",
       "    </tr>\n",
       "    <tr>\n",
       "      <th>264</th>\n",
       "      <td>1</td>\n",
       "      <td>Janice</td>\n",
       "      <td>6.5</td>\n",
       "      <td>TRAUMA_DISEASE</td>\n",
       "      <td>Ce que vous venez de voir vous a choqué. Vous...</td>\n",
       "      <td>6.0</td>\n",
       "      <td>5.0</td>\n",
       "    </tr>\n",
       "    <tr>\n",
       "      <th>265</th>\n",
       "      <td>1</td>\n",
       "      <td>Janice</td>\n",
       "      <td>6.5</td>\n",
       "      <td>FIST_KILLED</td>\n",
       "      <td>*Janice* s'acharne sur *Eleesha*...qui rend s...</td>\n",
       "      <td>6.0</td>\n",
       "      <td>5.0</td>\n",
       "    </tr>\n",
       "    <tr>\n",
       "      <th>266</th>\n",
       "      <td>1</td>\n",
       "      <td>Janice</td>\n",
       "      <td>6.5</td>\n",
       "      <td>TRIUMPH_EARNED</td>\n",
       "      <td>Vous avez gagné *3 Triomphe*.</td>\n",
       "      <td>6.0</td>\n",
       "      <td>5.0</td>\n",
       "    </tr>\n",
       "    <tr>\n",
       "      <th>267</th>\n",
       "      <td>1</td>\n",
       "      <td>Janice</td>\n",
       "      <td>6.6</td>\n",
       "      <td>DMG_DEALT</td>\n",
       "      <td>Vous perdez 3 hp.</td>\n",
       "      <td>6.0</td>\n",
       "      <td>6.0</td>\n",
       "    </tr>\n",
       "  </tbody>\n",
       "</table>\n",
       "</div>"
      ],
      "text/plain": [
       "     Ship Character  Day.Cycle          Action  \\\n",
       "263     1    Janice        6.5    FIST_WOUNDED   \n",
       "264     1    Janice        6.5  TRAUMA_DISEASE   \n",
       "265     1    Janice        6.5     FIST_KILLED   \n",
       "266     1    Janice        6.5  TRIUMPH_EARNED   \n",
       "267     1    Janice        6.6       DMG_DEALT   \n",
       "\n",
       "                                                   Log  Day  Cycle  \n",
       "263    *Janice* met une terrible baigne à *Eleesha*...  6.0    5.0  \n",
       "264   Ce que vous venez de voir vous a choqué. Vous...  6.0    5.0  \n",
       "265   *Janice* s'acharne sur *Eleesha*...qui rend s...  6.0    5.0  \n",
       "266                      Vous avez gagné *3 Triomphe*.  6.0    5.0  \n",
       "267                                  Vous perdez 3 hp.  6.0    6.0  "
      ]
     },
     "execution_count": 10,
     "metadata": {},
     "output_type": "execute_result"
    }
   ],
   "source": [
    "logs.loc[263:267]"
   ]
  },
  {
   "cell_type": "markdown",
   "metadata": {},
   "source": [
    "This second example is slightly different : we have a Trauma log but not a disease log. \n",
    " \n",
    "It's probably because Janice is a Mush : she should have catched the disease but is immunized."
   ]
  },
  {
   "cell_type": "code",
   "execution_count": 11,
   "metadata": {},
   "outputs": [
    {
     "data": {
      "text/html": [
       "<div>\n",
       "<style scoped>\n",
       "    .dataframe tbody tr th:only-of-type {\n",
       "        vertical-align: middle;\n",
       "    }\n",
       "\n",
       "    .dataframe tbody tr th {\n",
       "        vertical-align: top;\n",
       "    }\n",
       "\n",
       "    .dataframe thead th {\n",
       "        text-align: right;\n",
       "    }\n",
       "</style>\n",
       "<table border=\"1\" class=\"dataframe\">\n",
       "  <thead>\n",
       "    <tr style=\"text-align: right;\">\n",
       "      <th></th>\n",
       "      <th>Ship</th>\n",
       "      <th>Character</th>\n",
       "      <th>Day.Cycle</th>\n",
       "      <th>Action</th>\n",
       "      <th>Log</th>\n",
       "      <th>Day</th>\n",
       "      <th>Cycle</th>\n",
       "    </tr>\n",
       "  </thead>\n",
       "  <tbody>\n",
       "    <tr>\n",
       "      <th>2175</th>\n",
       "      <td>2</td>\n",
       "      <td>Chao</td>\n",
       "      <td>4.5</td>\n",
       "      <td>FIST_WOUNDED</td>\n",
       "      <td>*Chao* mets un magistral uppercut à *Paola*...</td>\n",
       "      <td>4.0</td>\n",
       "      <td>5.0</td>\n",
       "    </tr>\n",
       "    <tr>\n",
       "      <th>2176</th>\n",
       "      <td>2</td>\n",
       "      <td>Chao</td>\n",
       "      <td>4.5</td>\n",
       "      <td>MORAL_DOWN</td>\n",
       "      <td>Vous avez perdu 1 moral.</td>\n",
       "      <td>4.0</td>\n",
       "      <td>5.0</td>\n",
       "    </tr>\n",
       "    <tr>\n",
       "      <th>2177</th>\n",
       "      <td>2</td>\n",
       "      <td>Chao</td>\n",
       "      <td>4.5</td>\n",
       "      <td>FIST_KILLED</td>\n",
       "      <td>*Chao* s'acharne sur *Paola*...qui rend son d...</td>\n",
       "      <td>4.0</td>\n",
       "      <td>5.0</td>\n",
       "    </tr>\n",
       "    <tr>\n",
       "      <th>2178</th>\n",
       "      <td>2</td>\n",
       "      <td>Chao</td>\n",
       "      <td>4.5</td>\n",
       "      <td>DIRTED</td>\n",
       "      <td>C'est dégoûtant... Vous vous êtes sali.</td>\n",
       "      <td>4.0</td>\n",
       "      <td>5.0</td>\n",
       "    </tr>\n",
       "    <tr>\n",
       "      <th>2179</th>\n",
       "      <td>2</td>\n",
       "      <td>Chao</td>\n",
       "      <td>4.6</td>\n",
       "      <td>LOG_ACCESS</td>\n",
       "      <td>*Chao* a accédé au *Centre de Communication*.</td>\n",
       "      <td>4.0</td>\n",
       "      <td>6.0</td>\n",
       "    </tr>\n",
       "  </tbody>\n",
       "</table>\n",
       "</div>"
      ],
      "text/plain": [
       "      Ship Character  Day.Cycle        Action  \\\n",
       "2175     2      Chao        4.5  FIST_WOUNDED   \n",
       "2176     2      Chao        4.5    MORAL_DOWN   \n",
       "2177     2      Chao        4.5   FIST_KILLED   \n",
       "2178     2      Chao        4.5        DIRTED   \n",
       "2179     2      Chao        4.6    LOG_ACCESS   \n",
       "\n",
       "                                                    Log  Day  Cycle  \n",
       "2175     *Chao* mets un magistral uppercut à *Paola*...  4.0    5.0  \n",
       "2176                           Vous avez perdu 1 moral.  4.0    5.0  \n",
       "2177   *Chao* s'acharne sur *Paola*...qui rend son d...  4.0    5.0  \n",
       "2178            C'est dégoûtant... Vous vous êtes sali.  4.0    5.0  \n",
       "2179      *Chao* a accédé au *Centre de Communication*.  4.0    6.0  "
      ]
     },
     "execution_count": 11,
     "metadata": {},
     "output_type": "execute_result"
    }
   ],
   "source": [
    "logs.loc[2175:2179]"
   ]
  },
  {
   "cell_type": "markdown",
   "metadata": {},
   "source": [
    "We can see on the third example that if a human player doesn't catch a disease after a kill, the log just before is a `MORAL_DOWN` event."
   ]
  },
  {
   "cell_type": "code",
   "execution_count": 4,
   "metadata": {},
   "outputs": [
    {
     "data": {
      "text/html": [
       "<div>\n",
       "<style scoped>\n",
       "    .dataframe tbody tr th:only-of-type {\n",
       "        vertical-align: middle;\n",
       "    }\n",
       "\n",
       "    .dataframe tbody tr th {\n",
       "        vertical-align: top;\n",
       "    }\n",
       "\n",
       "    .dataframe thead th {\n",
       "        text-align: right;\n",
       "    }\n",
       "</style>\n",
       "<table border=\"1\" class=\"dataframe\">\n",
       "  <thead>\n",
       "    <tr style=\"text-align: right;\">\n",
       "      <th></th>\n",
       "      <th>Ship</th>\n",
       "      <th>Character</th>\n",
       "      <th>Day.Cycle</th>\n",
       "      <th>Action</th>\n",
       "      <th>Log</th>\n",
       "      <th>Day</th>\n",
       "      <th>Cycle</th>\n",
       "    </tr>\n",
       "  </thead>\n",
       "  <tbody>\n",
       "    <tr>\n",
       "      <th>7723402</th>\n",
       "      <td>1707</td>\n",
       "      <td>Ian</td>\n",
       "      <td>1.8</td>\n",
       "      <td>FIST_MISSED</td>\n",
       "      <td>*Ian* rate son coup sur *Chun*.</td>\n",
       "      <td>1.0</td>\n",
       "      <td>8.0</td>\n",
       "    </tr>\n",
       "    <tr>\n",
       "      <th>7723403</th>\n",
       "      <td>1707</td>\n",
       "      <td>Ian</td>\n",
       "      <td>1.8</td>\n",
       "      <td>FIST_WOUNDED</td>\n",
       "      <td>*Ian* met une terrible baigne à *Chun*...</td>\n",
       "      <td>1.0</td>\n",
       "      <td>8.0</td>\n",
       "    </tr>\n",
       "    <tr>\n",
       "      <th>7723404</th>\n",
       "      <td>1707</td>\n",
       "      <td>Ian</td>\n",
       "      <td>1.8</td>\n",
       "      <td>FIST_KILLED</td>\n",
       "      <td>*Ian* s'acharne sur *Chun*...qui rend son der...</td>\n",
       "      <td>1.0</td>\n",
       "      <td>8.0</td>\n",
       "    </tr>\n",
       "    <tr>\n",
       "      <th>7723405</th>\n",
       "      <td>1707</td>\n",
       "      <td>Ian</td>\n",
       "      <td>1.8</td>\n",
       "      <td>TRIUMPH_EARNED</td>\n",
       "      <td>Vous avez gagné *3 Triomphe*.</td>\n",
       "      <td>1.0</td>\n",
       "      <td>8.0</td>\n",
       "    </tr>\n",
       "    <tr>\n",
       "      <th>7723406</th>\n",
       "      <td>1707</td>\n",
       "      <td>Ian</td>\n",
       "      <td>1.8</td>\n",
       "      <td>DMG_DEALT</td>\n",
       "      <td>Vous perdez 3 hp.</td>\n",
       "      <td>1.0</td>\n",
       "      <td>8.0</td>\n",
       "    </tr>\n",
       "  </tbody>\n",
       "</table>\n",
       "</div>"
      ],
      "text/plain": [
       "         Ship Character  Day.Cycle          Action  \\\n",
       "7723402  1707       Ian        1.8     FIST_MISSED   \n",
       "7723403  1707       Ian        1.8    FIST_WOUNDED   \n",
       "7723404  1707       Ian        1.8     FIST_KILLED   \n",
       "7723405  1707       Ian        1.8  TRIUMPH_EARNED   \n",
       "7723406  1707       Ian        1.8       DMG_DEALT   \n",
       "\n",
       "                                                       Log  Day  Cycle  \n",
       "7723402                    *Ian* rate son coup sur *Chun*.  1.0    8.0  \n",
       "7723403          *Ian* met une terrible baigne à *Chun*...  1.0    8.0  \n",
       "7723404   *Ian* s'acharne sur *Chun*...qui rend son der...  1.0    8.0  \n",
       "7723405                      Vous avez gagné *3 Triomphe*.  1.0    8.0  \n",
       "7723406                                  Vous perdez 3 hp.  1.0    8.0  "
      ]
     },
     "execution_count": 4,
     "metadata": {},
     "output_type": "execute_result"
    }
   ],
   "source": [
    "logs.loc[7723402:7723406]"
   ]
  },
  {
   "cell_type": "markdown",
   "metadata": {},
   "source": [
    "For a Mush, the log before the kill one is a `FIST_WOUNDED` log (if they doesn't trigger a `TRAUMA_DISEASE` event)."
   ]
  },
  {
   "cell_type": "code",
   "execution_count": 5,
   "metadata": {},
   "outputs": [
    {
     "data": {
      "text/html": [
       "<div>\n",
       "<style scoped>\n",
       "    .dataframe tbody tr th:only-of-type {\n",
       "        vertical-align: middle;\n",
       "    }\n",
       "\n",
       "    .dataframe tbody tr th {\n",
       "        vertical-align: top;\n",
       "    }\n",
       "\n",
       "    .dataframe thead th {\n",
       "        text-align: right;\n",
       "    }\n",
       "</style>\n",
       "<table border=\"1\" class=\"dataframe\">\n",
       "  <thead>\n",
       "    <tr style=\"text-align: right;\">\n",
       "      <th></th>\n",
       "      <th>Ship</th>\n",
       "      <th>Character</th>\n",
       "      <th>Day.Cycle</th>\n",
       "      <th>Action</th>\n",
       "      <th>Log</th>\n",
       "      <th>Day</th>\n",
       "      <th>Cycle</th>\n",
       "    </tr>\n",
       "  </thead>\n",
       "  <tbody>\n",
       "    <tr>\n",
       "      <th>300728</th>\n",
       "      <td>69</td>\n",
       "      <td>Jin_Su</td>\n",
       "      <td>4.8</td>\n",
       "      <td>FIST_WOUNDED</td>\n",
       "      <td>*Jin Su* mets un magistral uppercut à *Janice...</td>\n",
       "      <td>4.0</td>\n",
       "      <td>8.0</td>\n",
       "    </tr>\n",
       "    <tr>\n",
       "      <th>300729</th>\n",
       "      <td>69</td>\n",
       "      <td>Jin_Su</td>\n",
       "      <td>4.8</td>\n",
       "      <td>MORAL_DOWN</td>\n",
       "      <td>Vous avez perdu 1 moral.</td>\n",
       "      <td>4.0</td>\n",
       "      <td>8.0</td>\n",
       "    </tr>\n",
       "    <tr>\n",
       "      <th>300730</th>\n",
       "      <td>69</td>\n",
       "      <td>Jin_Su</td>\n",
       "      <td>4.8</td>\n",
       "      <td>SKILL_ADD_PA</td>\n",
       "      <td>Votre compétence *Sang-froid* a porté ses fru...</td>\n",
       "      <td>4.0</td>\n",
       "      <td>8.0</td>\n",
       "    </tr>\n",
       "    <tr>\n",
       "      <th>300731</th>\n",
       "      <td>69</td>\n",
       "      <td>Jin_Su</td>\n",
       "      <td>4.8</td>\n",
       "      <td>FIST_KILLED</td>\n",
       "      <td>*Jin Su* s'acharne sur *Janice*...qui rend so...</td>\n",
       "      <td>4.0</td>\n",
       "      <td>8.0</td>\n",
       "    </tr>\n",
       "    <tr>\n",
       "      <th>300732</th>\n",
       "      <td>69</td>\n",
       "      <td>Jin_Su</td>\n",
       "      <td>4.8</td>\n",
       "      <td>TRIUMPH_EARNED</td>\n",
       "      <td>Vous avez gagné *3 Triomphe*.</td>\n",
       "      <td>4.0</td>\n",
       "      <td>8.0</td>\n",
       "    </tr>\n",
       "  </tbody>\n",
       "</table>\n",
       "</div>"
      ],
      "text/plain": [
       "        Ship Character  Day.Cycle          Action  \\\n",
       "300728    69    Jin_Su        4.8    FIST_WOUNDED   \n",
       "300729    69    Jin_Su        4.8      MORAL_DOWN   \n",
       "300730    69    Jin_Su        4.8    SKILL_ADD_PA   \n",
       "300731    69    Jin_Su        4.8     FIST_KILLED   \n",
       "300732    69    Jin_Su        4.8  TRIUMPH_EARNED   \n",
       "\n",
       "                                                      Log  Day  Cycle  \n",
       "300728   *Jin Su* mets un magistral uppercut à *Janice...  4.0    8.0  \n",
       "300729                           Vous avez perdu 1 moral.  4.0    8.0  \n",
       "300730   Votre compétence *Sang-froid* a porté ses fru...  4.0    8.0  \n",
       "300731   *Jin Su* s'acharne sur *Janice*...qui rend so...  4.0    8.0  \n",
       "300732                      Vous avez gagné *3 Triomphe*.  4.0    8.0  "
      ]
     },
     "execution_count": 5,
     "metadata": {},
     "output_type": "execute_result"
    }
   ],
   "source": [
    "logs.loc[300728:300732]"
   ]
  },
  {
   "cell_type": "markdown",
   "metadata": {},
   "source": [
    "Another edge case to keep in mind is the Cold-blooded skill which prints a log before the kill one."
   ]
  },
  {
   "cell_type": "markdown",
   "metadata": {},
   "source": [
    "Let's recap by taking all the logs just before the kill ones :"
   ]
  },
  {
   "cell_type": "code",
   "execution_count": 8,
   "metadata": {},
   "outputs": [
    {
     "data": {
      "text/html": [
       "<div>\n",
       "<style scoped>\n",
       "    .dataframe tbody tr th:only-of-type {\n",
       "        vertical-align: middle;\n",
       "    }\n",
       "\n",
       "    .dataframe tbody tr th {\n",
       "        vertical-align: top;\n",
       "    }\n",
       "\n",
       "    .dataframe thead th {\n",
       "        text-align: right;\n",
       "    }\n",
       "</style>\n",
       "<table border=\"1\" class=\"dataframe\">\n",
       "  <thead>\n",
       "    <tr style=\"text-align: right;\">\n",
       "      <th></th>\n",
       "      <th>Ship</th>\n",
       "      <th>Character</th>\n",
       "      <th>Day.Cycle</th>\n",
       "      <th>Action</th>\n",
       "      <th>Log</th>\n",
       "      <th>Day</th>\n",
       "      <th>Cycle</th>\n",
       "    </tr>\n",
       "  </thead>\n",
       "  <tbody>\n",
       "    <tr>\n",
       "      <th>264</th>\n",
       "      <td>1</td>\n",
       "      <td>Janice</td>\n",
       "      <td>6.5</td>\n",
       "      <td>TRAUMA_DISEASE</td>\n",
       "      <td>Ce que vous venez de voir vous a choqué. Vous...</td>\n",
       "      <td>6.0</td>\n",
       "      <td>5.0</td>\n",
       "    </tr>\n",
       "    <tr>\n",
       "      <th>2176</th>\n",
       "      <td>2</td>\n",
       "      <td>Chao</td>\n",
       "      <td>4.5</td>\n",
       "      <td>MORAL_DOWN</td>\n",
       "      <td>Vous avez perdu 1 moral.</td>\n",
       "      <td>4.0</td>\n",
       "      <td>5.0</td>\n",
       "    </tr>\n",
       "    <tr>\n",
       "      <th>2208</th>\n",
       "      <td>2</td>\n",
       "      <td>Chao</td>\n",
       "      <td>4.7</td>\n",
       "      <td>MORAL_DOWN</td>\n",
       "      <td>Vous avez perdu 1 moral.</td>\n",
       "      <td>4.0</td>\n",
       "      <td>7.0</td>\n",
       "    </tr>\n",
       "    <tr>\n",
       "      <th>2809</th>\n",
       "      <td>2</td>\n",
       "      <td>Frieda</td>\n",
       "      <td>4.1</td>\n",
       "      <td>DISEASED_PSY</td>\n",
       "      <td>Vous ne vous sentez pas très très bien... Vot...</td>\n",
       "      <td>4.0</td>\n",
       "      <td>1.0</td>\n",
       "    </tr>\n",
       "    <tr>\n",
       "      <th>3495</th>\n",
       "      <td>2</td>\n",
       "      <td>Kuan_Ti</td>\n",
       "      <td>6.6</td>\n",
       "      <td>MORAL_DOWN</td>\n",
       "      <td>Vous avez perdu 1 moral.</td>\n",
       "      <td>6.0</td>\n",
       "      <td>6.0</td>\n",
       "    </tr>\n",
       "    <tr>\n",
       "      <th>...</th>\n",
       "      <td>...</td>\n",
       "      <td>...</td>\n",
       "      <td>...</td>\n",
       "      <td>...</td>\n",
       "      <td>...</td>\n",
       "      <td>...</td>\n",
       "      <td>...</td>\n",
       "    </tr>\n",
       "    <tr>\n",
       "      <th>7723278</th>\n",
       "      <td>1707</td>\n",
       "      <td>Paola</td>\n",
       "      <td>1.8</td>\n",
       "      <td>DISEASED</td>\n",
       "      <td>Vous ne vous sentez pas très très bien... Cha...</td>\n",
       "      <td>1.0</td>\n",
       "      <td>8.0</td>\n",
       "    </tr>\n",
       "    <tr>\n",
       "      <th>7723403</th>\n",
       "      <td>1707</td>\n",
       "      <td>Ian</td>\n",
       "      <td>1.8</td>\n",
       "      <td>FIST_WOUNDED</td>\n",
       "      <td>*Ian* met une terrible baigne à *Chun*...</td>\n",
       "      <td>1.0</td>\n",
       "      <td>8.0</td>\n",
       "    </tr>\n",
       "    <tr>\n",
       "      <th>7724966</th>\n",
       "      <td>1709</td>\n",
       "      <td>Kuan_Ti</td>\n",
       "      <td>3.5</td>\n",
       "      <td>MORAL_DOWN</td>\n",
       "      <td>Vous avez perdu 1 moral.</td>\n",
       "      <td>3.0</td>\n",
       "      <td>5.0</td>\n",
       "    </tr>\n",
       "    <tr>\n",
       "      <th>7725272</th>\n",
       "      <td>1709</td>\n",
       "      <td>Janice</td>\n",
       "      <td>4.5</td>\n",
       "      <td>MORAL_DOWN</td>\n",
       "      <td>Vous avez perdu 1 moral.</td>\n",
       "      <td>4.0</td>\n",
       "      <td>5.0</td>\n",
       "    </tr>\n",
       "    <tr>\n",
       "      <th>7726145</th>\n",
       "      <td>1710</td>\n",
       "      <td>Stephen</td>\n",
       "      <td>2.4</td>\n",
       "      <td>MORAL_DOWN</td>\n",
       "      <td>Vous avez perdu 1 moral.</td>\n",
       "      <td>2.0</td>\n",
       "      <td>4.0</td>\n",
       "    </tr>\n",
       "  </tbody>\n",
       "</table>\n",
       "<p>4702 rows × 7 columns</p>\n",
       "</div>"
      ],
      "text/plain": [
       "         Ship Character  Day.Cycle          Action  \\\n",
       "264         1    Janice        6.5  TRAUMA_DISEASE   \n",
       "2176        2      Chao        4.5      MORAL_DOWN   \n",
       "2208        2      Chao        4.7      MORAL_DOWN   \n",
       "2809        2    Frieda        4.1    DISEASED_PSY   \n",
       "3495        2   Kuan_Ti        6.6      MORAL_DOWN   \n",
       "...       ...       ...        ...             ...   \n",
       "7723278  1707     Paola        1.8        DISEASED   \n",
       "7723403  1707       Ian        1.8    FIST_WOUNDED   \n",
       "7724966  1709   Kuan_Ti        3.5      MORAL_DOWN   \n",
       "7725272  1709    Janice        4.5      MORAL_DOWN   \n",
       "7726145  1710   Stephen        2.4      MORAL_DOWN   \n",
       "\n",
       "                                                       Log  Day  Cycle  \n",
       "264       Ce que vous venez de voir vous a choqué. Vous...  6.0    5.0  \n",
       "2176                              Vous avez perdu 1 moral.  4.0    5.0  \n",
       "2208                              Vous avez perdu 1 moral.  4.0    7.0  \n",
       "2809      Vous ne vous sentez pas très très bien... Vot...  4.0    1.0  \n",
       "3495                              Vous avez perdu 1 moral.  6.0    6.0  \n",
       "...                                                    ...  ...    ...  \n",
       "7723278   Vous ne vous sentez pas très très bien... Cha...  1.0    8.0  \n",
       "7723403          *Ian* met une terrible baigne à *Chun*...  1.0    8.0  \n",
       "7724966                           Vous avez perdu 1 moral.  3.0    5.0  \n",
       "7725272                           Vous avez perdu 1 moral.  4.0    5.0  \n",
       "7726145                           Vous avez perdu 1 moral.  2.0    4.0  \n",
       "\n",
       "[4702 rows x 7 columns]"
      ]
     },
     "execution_count": 8,
     "metadata": {},
     "output_type": "execute_result"
    }
   ],
   "source": [
    "potential_traumas = logs.loc[utils.find_all_actions_by_name(logs, \"FIST_KILLED\").index - 1]\n",
    "potential_traumas"
   ]
  },
  {
   "cell_type": "code",
   "execution_count": 13,
   "metadata": {},
   "outputs": [
    {
     "data": {
      "text/plain": [
       "Action\n",
       "MORAL_DOWN        2336\n",
       "FIST_WOUNDED       805\n",
       "DISEASED           628\n",
       "DISEASED_PSY       604\n",
       "TRAUMA_DISEASE     268\n",
       "SKILL_ADD_PA        61\n",
       "dtype: int64"
      ]
     },
     "execution_count": 13,
     "metadata": {},
     "output_type": "execute_result"
    }
   ],
   "source": [
    "events_repartition = potential_traumas.value_counts(\"Action\")\n",
    "events_repartition"
   ]
  },
  {
   "cell_type": "markdown",
   "metadata": {},
   "source": [
    "We can see we've browsed all the cases.\n",
    "\n",
    "As said above, Mush players can get the `TRAUMA_DISEASE` (trauma event triggered) or the `FIST_WOUNDED` log before the kill log.\n",
    " \n",
    "Human players can get the `DISEASED` or `DISEASE_PSY` log if they triggered the trauma event or the `MORAL_DOWN` log otherwise.\n",
    "\n",
    "Then if we take only human logs, an estimation of the `Trauma` event probability is $\\frac{\\#diseased + \\#diseased psy}{\\#diseased + \\#diseased psy + \\#moral down}$."
   ]
  },
  {
   "cell_type": "code",
   "execution_count": 29,
   "metadata": {},
   "outputs": [],
   "source": [
    "diseased_logs = events_repartition[\"DISEASED\"] + events_repartition[\"DISEASED_PSY\"]\n",
    "moral_down_logs = events_repartition[\"MORAL_DOWN\"]\n",
    "\n",
    "trauma_probability_1 = diseased_logs / (diseased_logs + moral_down_logs)"
   ]
  },
  {
   "cell_type": "code",
   "execution_count": 30,
   "metadata": {},
   "outputs": [
    {
     "name": "stdout",
     "output_type": "stream",
     "text": [
      "First estimation of Trauma event probability : 34.53%\n"
     ]
    }
   ],
   "source": [
    "print(\"First estimation of Trauma event probability : {:.2f}%\".format(trauma_probability_1 * 100))"
   ]
  },
  {
   "cell_type": "markdown",
   "metadata": {},
   "source": [
    "With similar reasoning we can estimate this probability with kills done with a knife :"
   ]
  },
  {
   "cell_type": "code",
   "execution_count": 24,
   "metadata": {},
   "outputs": [],
   "source": [
    "knife_potential_traumas = logs.loc[utils.find_all_actions_by_name(logs, \"KNIFE_KILLED\").index - 1]\n",
    "knife_event_repartition = knife_potential_traumas.value_counts(\"Action\")"
   ]
  },
  {
   "cell_type": "code",
   "execution_count": 26,
   "metadata": {},
   "outputs": [
    {
     "data": {
      "text/plain": [
       "Action\n",
       "MORAL_DOWN        731\n",
       "KNIFE_WOUNDED     535\n",
       "DISEASED          232\n",
       "DISEASED_PSY      176\n",
       "TRAUMA_DISEASE    113\n",
       "SKILL_ADD_PA       33\n",
       "dtype: int64"
      ]
     },
     "execution_count": 26,
     "metadata": {},
     "output_type": "execute_result"
    }
   ],
   "source": [
    "knife_event_repartition"
   ]
  },
  {
   "cell_type": "code",
   "execution_count": 32,
   "metadata": {},
   "outputs": [],
   "source": [
    "diseased_logs = knife_event_repartition[\"DISEASED\"] + knife_event_repartition[\"DISEASED_PSY\"]\n",
    "moral_down_logs = knife_event_repartition[\"MORAL_DOWN\"]\n",
    "\n",
    "trauma_probability_2 = diseased_logs / (diseased_logs + moral_down_logs)"
   ]
  },
  {
   "cell_type": "code",
   "execution_count": 33,
   "metadata": {},
   "outputs": [
    {
     "name": "stdout",
     "output_type": "stream",
     "text": [
      "2nd estimation of Trauma event probability : 35.82%\n"
     ]
    }
   ],
   "source": [
    "print(\"2nd estimation of Trauma event probability : {:.2f}%\".format(trauma_probability_2 * 100))"
   ]
  },
  {
   "cell_type": "markdown",
   "metadata": {},
   "source": [
    "It seems you have a **1/3** chance to catch a disease by witnessing a death.\n",
    " \n",
    "(Note : this is more precisely the chance of catching a disease if you kill a player, if you are a witness it might be lower but harder to estimate)"
   ]
  },
  {
   "cell_type": "markdown",
   "metadata": {},
   "source": [
    "### Mass function of diseases"
   ]
  },
  {
   "cell_type": "markdown",
   "metadata": {},
   "source": [
    "We just need to check the disease logs after the `TRAUMA_DISEASE` events :"
   ]
  },
  {
   "cell_type": "code",
   "execution_count": 21,
   "metadata": {},
   "outputs": [],
   "source": [
    "traumas = utils.find_all_actions_by_name(logs, \"TRAUMA_DISEASE\")\n",
    "diseases = logs.loc[traumas.index + 1]\n",
    "\n",
    "is_disease_event = (diseases[\"Action\"] == \"DISEASED\")\n",
    "is_psy_disease_event = (diseases[\"Action\"] == \"DISEASED_PSY\")\n",
    "\n",
    "physical_diseases = diseases[is_disease_event] #remove logs that are not disease events\n",
    "physical_diseases = physical_diseases[\"Log\"].apply(lambda x: x.split(\":\")[-1].split(\".\")[0]) #keep only the disease name\n",
    "\n",
    "psy_diseases = diseases[is_psy_disease_event] #remove logs that are not disorder events\n",
    "psy_diseases = psy_diseases[\"Log\"].apply(lambda x: x.split(\":\")[-1].split(\".\")[0]) #keep only the disorder name\n",
    "\n",
    "diseases = pd.concat([physical_diseases, psy_diseases])"
   ]
  },
  {
   "cell_type": "code",
   "execution_count": 17,
   "metadata": {},
   "outputs": [
    {
     "data": {
      "text/plain": [
       " Migraine          57.027183\n",
       " GastroEntérite    42.972817\n",
       "Name: Log, dtype: float64"
      ]
     },
     "execution_count": 17,
     "metadata": {},
     "output_type": "execute_result"
    }
   ],
   "source": [
    "physical_diseases.value_counts(normalize=True) * 100"
   ]
  },
  {
   "cell_type": "code",
   "execution_count": 18,
   "metadata": {},
   "outputs": [
    {
     "data": {
      "text/plain": [
       " Migraine chronique       12.798742\n",
       " Episodes psychotiques    12.672956\n",
       " Phobie des armes         12.327044\n",
       " Crise Paranoïaque        12.295597\n",
       " Crabisme                 12.138365\n",
       " Coprolalie               12.075472\n",
       " Dépression               11.635220\n",
       " Agoraphobie               6.037736\n",
       " Vertige chronique         5.503145\n",
       " Spleen                    2.515723\n",
       "Name: Log, dtype: float64"
      ]
     },
     "execution_count": 18,
     "metadata": {},
     "output_type": "execute_result"
    }
   ],
   "source": [
    "psy_diseases.value_counts(normalize=True) * 100"
   ]
  },
  {
   "cell_type": "code",
   "execution_count": 22,
   "metadata": {},
   "outputs": [
    {
     "data": {
      "text/plain": [
       " Migraine                 29.707743\n",
       " GastroEntérite           22.386261\n",
       " Migraine chronique        6.131365\n",
       " Episodes psychotiques     6.071106\n",
       " Phobie des armes          5.905393\n",
       " Crise Paranoïaque         5.890328\n",
       " Crabisme                  5.815005\n",
       " Coprolalie                5.784875\n",
       " Dépression                5.573968\n",
       " Agoraphobie               2.892437\n",
       " Vertige chronique         2.636336\n",
       " Spleen                    1.205182\n",
       "Name: Log, dtype: float64"
      ]
     },
     "execution_count": 22,
     "metadata": {},
     "output_type": "execute_result"
    }
   ],
   "source": [
    "diseases.value_counts(normalize=True) * 100"
   ]
  }
 ],
 "metadata": {
  "kernelspec": {
   "display_name": "Python 3.10.4 ('Data_Science')",
   "language": "python",
   "name": "python3"
  },
  "language_info": {
   "codemirror_mode": {
    "name": "ipython",
    "version": 3
   },
   "file_extension": ".py",
   "mimetype": "text/x-python",
   "name": "python",
   "nbconvert_exporter": "python",
   "pygments_lexer": "ipython3",
   "version": "3.10.4"
  },
  "orig_nbformat": 4,
  "vscode": {
   "interpreter": {
    "hash": "a37cb23fcfd97a4b09a5fb24592fbc8618d23c43cd0e09557697ff88092939b8"
   }
  }
 },
 "nbformat": 4,
 "nbformat_minor": 2
}
