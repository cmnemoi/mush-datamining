{
 "cells": [
  {
   "cell_type": "markdown",
   "metadata": {},
   "source": [
    "# Incidents notebook\n",
    "The goal of this notebook is to estimate probability laws of incidents from FDS logs.\n",
    "\n",
    "Let's import libraries and data :"
   ]
  },
  {
   "cell_type": "code",
   "execution_count": 26,
   "metadata": {},
   "outputs": [],
   "source": [
    "from tqdm import tqdm\n",
    "\n",
    "import numpy as np\n",
    "import pandas as pd\n",
    "import scipy.optimize as opt\n",
    "import matplotlib.pyplot as plt\n",
    "import utils"
   ]
  },
  {
   "cell_type": "code",
   "execution_count": 4,
   "metadata": {},
   "outputs": [],
   "source": [
    "logs = utils.load_player_logs().dropna()\n",
    "logs.Day = logs.Day.astype(int)\n",
    "logs.Cycle = logs.Cycle.astype(int)\n",
    "logs.Ship = logs.Ship.astype(int)\n",
    "logs.Character = logs.Character.apply(lambda x: x.capitalize())"
   ]
  },
  {
   "cell_type": "code",
   "execution_count": 5,
   "metadata": {},
   "outputs": [
    {
     "data": {
      "text/html": [
       "<div>\n",
       "<style scoped>\n",
       "    .dataframe tbody tr th:only-of-type {\n",
       "        vertical-align: middle;\n",
       "    }\n",
       "\n",
       "    .dataframe tbody tr th {\n",
       "        vertical-align: top;\n",
       "    }\n",
       "\n",
       "    .dataframe thead th {\n",
       "        text-align: right;\n",
       "    }\n",
       "</style>\n",
       "<table border=\"1\" class=\"dataframe\">\n",
       "  <thead>\n",
       "    <tr style=\"text-align: right;\">\n",
       "      <th></th>\n",
       "      <th>Ship</th>\n",
       "      <th>Character</th>\n",
       "      <th>Day.Cycle</th>\n",
       "      <th>Event</th>\n",
       "      <th>Log</th>\n",
       "      <th>Day</th>\n",
       "      <th>Cycle</th>\n",
       "    </tr>\n",
       "  </thead>\n",
       "  <tbody>\n",
       "    <tr>\n",
       "      <th>0</th>\n",
       "      <td>1</td>\n",
       "      <td>Janice</td>\n",
       "      <td>2.4</td>\n",
       "      <td>NEW_CREW_MEMBER</td>\n",
       "      <td>*Janice* s'est éveillée de son si long sommeil.</td>\n",
       "      <td>2</td>\n",
       "      <td>4</td>\n",
       "    </tr>\n",
       "    <tr>\n",
       "      <th>1</th>\n",
       "      <td>1</td>\n",
       "      <td>Janice</td>\n",
       "      <td>2.4</td>\n",
       "      <td>CHARACTER_LEFT</td>\n",
       "      <td>*Janice* est sortie.</td>\n",
       "      <td>2</td>\n",
       "      <td>4</td>\n",
       "    </tr>\n",
       "    <tr>\n",
       "      <th>2</th>\n",
       "      <td>1</td>\n",
       "      <td>Janice</td>\n",
       "      <td>2.4</td>\n",
       "      <td>CHARACTER_ENTERED</td>\n",
       "      <td>*Janice* est entrée.</td>\n",
       "      <td>2</td>\n",
       "      <td>4</td>\n",
       "    </tr>\n",
       "    <tr>\n",
       "      <th>3</th>\n",
       "      <td>1</td>\n",
       "      <td>Janice</td>\n",
       "      <td>2.4</td>\n",
       "      <td>CUDDLE_OTHER</td>\n",
       "      <td>*Janice* réconforte *Finola*, ça ira mieux de...</td>\n",
       "      <td>2</td>\n",
       "      <td>4</td>\n",
       "    </tr>\n",
       "    <tr>\n",
       "      <th>4</th>\n",
       "      <td>1</td>\n",
       "      <td>Janice</td>\n",
       "      <td>2.4</td>\n",
       "      <td>CHARACTER_LEFT</td>\n",
       "      <td>*Janice* est sortie.</td>\n",
       "      <td>2</td>\n",
       "      <td>4</td>\n",
       "    </tr>\n",
       "    <tr>\n",
       "      <th>...</th>\n",
       "      <td>...</td>\n",
       "      <td>...</td>\n",
       "      <td>...</td>\n",
       "      <td>...</td>\n",
       "      <td>...</td>\n",
       "      <td>...</td>\n",
       "      <td>...</td>\n",
       "    </tr>\n",
       "    <tr>\n",
       "      <th>8169400</th>\n",
       "      <td>1714</td>\n",
       "      <td>Raluca</td>\n",
       "      <td>17.1</td>\n",
       "      <td>MORAL_DOWN</td>\n",
       "      <td>Vous avez perdu 1 moral.</td>\n",
       "      <td>17</td>\n",
       "      <td>1</td>\n",
       "    </tr>\n",
       "    <tr>\n",
       "      <th>8169401</th>\n",
       "      <td>1714</td>\n",
       "      <td>Raluca</td>\n",
       "      <td>17.1</td>\n",
       "      <td>HP_UP</td>\n",
       "      <td>Vous avez gagné 1 hp.</td>\n",
       "      <td>17</td>\n",
       "      <td>1</td>\n",
       "    </tr>\n",
       "    <tr>\n",
       "      <th>8169402</th>\n",
       "      <td>1714</td>\n",
       "      <td>Raluca</td>\n",
       "      <td>17.2</td>\n",
       "      <td>LOG_ANXIETY_ATTACK</td>\n",
       "      <td>Vous ressentez des frissons, l'espoir vous qu...</td>\n",
       "      <td>17</td>\n",
       "      <td>2</td>\n",
       "    </tr>\n",
       "    <tr>\n",
       "      <th>8169403</th>\n",
       "      <td>1714</td>\n",
       "      <td>Raluca</td>\n",
       "      <td>17.2</td>\n",
       "      <td>MORAL_DOWN</td>\n",
       "      <td>Vous avez perdu 3 moral.</td>\n",
       "      <td>17</td>\n",
       "      <td>2</td>\n",
       "    </tr>\n",
       "    <tr>\n",
       "      <th>8169404</th>\n",
       "      <td>1714</td>\n",
       "      <td>Raluca</td>\n",
       "      <td>17.2</td>\n",
       "      <td>DMG_DEALT</td>\n",
       "      <td>Vous perdez 2 hp.</td>\n",
       "      <td>17</td>\n",
       "      <td>2</td>\n",
       "    </tr>\n",
       "  </tbody>\n",
       "</table>\n",
       "<p>8169404 rows × 7 columns</p>\n",
       "</div>"
      ],
      "text/plain": [
       "         Ship Character  Day.Cycle               Event  \\\n",
       "0           1    Janice        2.4     NEW_CREW_MEMBER   \n",
       "1           1    Janice        2.4      CHARACTER_LEFT   \n",
       "2           1    Janice        2.4   CHARACTER_ENTERED   \n",
       "3           1    Janice        2.4        CUDDLE_OTHER   \n",
       "4           1    Janice        2.4      CHARACTER_LEFT   \n",
       "...       ...       ...        ...                 ...   \n",
       "8169400  1714    Raluca       17.1          MORAL_DOWN   \n",
       "8169401  1714    Raluca       17.1               HP_UP   \n",
       "8169402  1714    Raluca       17.2  LOG_ANXIETY_ATTACK   \n",
       "8169403  1714    Raluca       17.2          MORAL_DOWN   \n",
       "8169404  1714    Raluca       17.2           DMG_DEALT   \n",
       "\n",
       "                                                       Log  Day  Cycle  \n",
       "0          *Janice* s'est éveillée de son si long sommeil.    2      4  \n",
       "1                                     *Janice* est sortie.    2      4  \n",
       "2                                     *Janice* est entrée.    2      4  \n",
       "3         *Janice* réconforte *Finola*, ça ira mieux de...    2      4  \n",
       "4                                     *Janice* est sortie.    2      4  \n",
       "...                                                    ...  ...    ...  \n",
       "8169400                           Vous avez perdu 1 moral.   17      1  \n",
       "8169401                              Vous avez gagné 1 hp.   17      1  \n",
       "8169402   Vous ressentez des frissons, l'espoir vous qu...   17      2  \n",
       "8169403                           Vous avez perdu 3 moral.   17      2  \n",
       "8169404                                  Vous perdez 2 hp.   17      2  \n",
       "\n",
       "[8169404 rows x 7 columns]"
      ]
     },
     "execution_count": 5,
     "metadata": {},
     "output_type": "execute_result"
    }
   ],
   "source": [
    "logs"
   ]
  },
  {
   "cell_type": "markdown",
   "metadata": {},
   "source": [
    "## Reminders about game mechanics\n",
    "\n",
    "There are 8 types of incidents in the game : metal plates, tremors, panic attacks, fires, electric discharges, equipment failures, door failures and spontaneous diseases.\n",
    "\n",
    "Each cycle, the game draws a random number of each type of incident.\n",
    "\n",
    "This draw depends of the day, the precedent draws (and their gestion by players) and the action points spent by the crew, among other factors.\n",
    "\n",
    "We will make the following assumptions to simplify the problem :\n",
    "- all types of incidents follows the same probability law\n",
    "- this law depends only on the day\n",
    "\n",
    "## Modelisation\n",
    "As all events follows the same probability law, let's call $C_j$ the aleatory variable representing the number of incidents in a cycle for a fixed day $j$.\n",
    "\n",
    "A natural law for $C_j$ is then the Poisson law with parameter $\\lambda_j$, which represents the average number of incidents per cycle in day $j$.\n",
    "\n",
    "We will note that there are 8 cycles per day. So we can define a new aleatory variable $D_j$ representing the number of incidents in a day $j$.\n",
    "\n",
    "And $D_j = \\sum_{i=1}^{8} C_{j,i}$. As $C_{j,i}$ follows the same Poisson law for each $i$, we can write $D_j \\sim \\text{Poisson}(a_j)$ where $a_j = 8\\lambda_j$.\n",
    "\n",
    "We can then estimate $\\lambda_j$ through $D_j$, which is easier to study.\n",
    "\n",
    "(At the end, we can use a statistical test to check if the estimated law fit the observed data)\n",
    "\n",
    "## Estimation\n",
    "\n",
    "Population : Mush ships\n",
    "\n",
    "Aleatory variable : $D_j$ the number of incidents in a ship for a fixed day $j$\n",
    "\n",
    "Law : Poisson law with parameter $a_j$.\n",
    "\n",
    "Sample : $(D_{j1}, ..., D_{jn})$ iid. of law $Poisson(a_j)$:\n",
    "- size $n = \\#numberOfShipsWhichReachedDayJ$ \n",
    "- empirical mean $\\bar{d_j} = \\frac{1}{n} \\sum_{i=1}^n d_{ji}$ (where $d_{ji}$ is the realisation of $D_j$ for the $i$-th ship)\n",
    "- empirical variance $\\hat{s_j}^2 = \\frac{1}{n} \\sum_{i=1}^n (d_{ji} - \\bar{d_j})^2$\n",
    "\n",
    "\n",
    "The maximum likelihood estimator of $a_j$ is $\\hat{a_j} = \\bar{d_j}$.\n",
    "\n",
    "Then, as $a_j = 8\\lambda_j$, an estimator of $\\lambda_j$ is $\\hat{\\lambda_j} = \\frac{\\hat{a_j}}{8}$."
   ]
  },
  {
   "cell_type": "markdown",
   "metadata": {},
   "source": [
    "We will use the number of metal plates as a proxy for the number of incidents (as we made the assumption that all types of incidents follows the same probability law).\n",
    "\n",
    "Let's flag all logs with a metal plate incident :"
   ]
  },
  {
   "cell_type": "code",
   "execution_count": 6,
   "metadata": {},
   "outputs": [],
   "source": [
    "logs[\"metal_plate\"] = logs[\"Event\"].apply(lambda x: 1 if x == \"EV_ACCIDENT\" else 0)"
   ]
  },
  {
   "cell_type": "markdown",
   "metadata": {},
   "source": [
    "Then, for each day observed in the dataset, we will compute the estimators described above."
   ]
  },
  {
   "cell_type": "code",
   "execution_count": 76,
   "metadata": {},
   "outputs": [
    {
     "name": "stderr",
     "output_type": "stream",
     "text": [
      "100%|██████████| 81/81 [00:01<00:00, 48.25it/s]\n"
     ]
    }
   ],
   "source": [
    "day_j_incidents = pd.DataFrame()\n",
    "\n",
    "for day in tqdm(range(1, logs.Day.max() + 1)):\n",
    "    day_J_logs = logs[logs['Day'] == day].groupby(\"Ship\").sum()\n",
    "    n = len(day_J_logs)\n",
    "    \n",
    "    d_j = (1/n) * np.sum(day_J_logs['metal_plate'])\n",
    "    s_j_2 = (1/n) * np.sum((day_J_logs['metal_plate'] - d_j)**2)\n",
    "    s_j_2 = s_j_2 if s_j_2 > 0 else day_j_incidents['s_j_2'].max()\n",
    "\n",
    "    day_j_incidents = pd.concat([day_j_incidents, pd.DataFrame\n",
    "        ({\n",
    "        'j': day,\n",
    "        'a_j': d_j,\n",
    "        'var(a_j)': s_j_2 / n,\n",
    "        'lambda_j': (1/8) * d_j,\n",
    "        'var(lambda_j)': (1/64) * s_j_2 / n,\n",
    "        'n': n\n",
    "        }, index=[0])], ignore_index=True)"
   ]
  },
  {
   "cell_type": "code",
   "execution_count": 81,
   "metadata": {},
   "outputs": [
    {
     "data": {
      "text/html": [
       "<div>\n",
       "<style scoped>\n",
       "    .dataframe tbody tr th:only-of-type {\n",
       "        vertical-align: middle;\n",
       "    }\n",
       "\n",
       "    .dataframe tbody tr th {\n",
       "        vertical-align: top;\n",
       "    }\n",
       "\n",
       "    .dataframe thead th {\n",
       "        text-align: right;\n",
       "    }\n",
       "</style>\n",
       "<table border=\"1\" class=\"dataframe\">\n",
       "  <thead>\n",
       "    <tr style=\"text-align: right;\">\n",
       "      <th></th>\n",
       "      <th>j</th>\n",
       "      <th>a_j</th>\n",
       "      <th>var(a_j)</th>\n",
       "      <th>lambda_j</th>\n",
       "      <th>var(lambda_j)</th>\n",
       "      <th>n</th>\n",
       "    </tr>\n",
       "  </thead>\n",
       "  <tbody>\n",
       "    <tr>\n",
       "      <th>0</th>\n",
       "      <td>1</td>\n",
       "      <td>0.002921</td>\n",
       "      <td>0.000002</td>\n",
       "      <td>0.000365</td>\n",
       "      <td>2.657739e-08</td>\n",
       "      <td>1712</td>\n",
       "    </tr>\n",
       "    <tr>\n",
       "      <th>1</th>\n",
       "      <td>2</td>\n",
       "      <td>0.236842</td>\n",
       "      <td>0.000149</td>\n",
       "      <td>0.029605</td>\n",
       "      <td>2.335542e-06</td>\n",
       "      <td>1710</td>\n",
       "    </tr>\n",
       "    <tr>\n",
       "      <th>2</th>\n",
       "      <td>3</td>\n",
       "      <td>0.405738</td>\n",
       "      <td>0.000248</td>\n",
       "      <td>0.050717</td>\n",
       "      <td>3.876833e-06</td>\n",
       "      <td>1708</td>\n",
       "    </tr>\n",
       "    <tr>\n",
       "      <th>3</th>\n",
       "      <td>4</td>\n",
       "      <td>0.253641</td>\n",
       "      <td>0.000158</td>\n",
       "      <td>0.031705</td>\n",
       "      <td>2.462222e-06</td>\n",
       "      <td>1648</td>\n",
       "    </tr>\n",
       "    <tr>\n",
       "      <th>4</th>\n",
       "      <td>5</td>\n",
       "      <td>0.330070</td>\n",
       "      <td>0.000251</td>\n",
       "      <td>0.041259</td>\n",
       "      <td>3.929035e-06</td>\n",
       "      <td>1430</td>\n",
       "    </tr>\n",
       "    <tr>\n",
       "      <th>...</th>\n",
       "      <td>...</td>\n",
       "      <td>...</td>\n",
       "      <td>...</td>\n",
       "      <td>...</td>\n",
       "      <td>...</td>\n",
       "      <td>...</td>\n",
       "    </tr>\n",
       "    <tr>\n",
       "      <th>76</th>\n",
       "      <td>77</td>\n",
       "      <td>34.000000</td>\n",
       "      <td>105.000000</td>\n",
       "      <td>4.250000</td>\n",
       "      <td>1.640625e+00</td>\n",
       "      <td>1</td>\n",
       "    </tr>\n",
       "    <tr>\n",
       "      <th>77</th>\n",
       "      <td>78</td>\n",
       "      <td>28.000000</td>\n",
       "      <td>105.000000</td>\n",
       "      <td>3.500000</td>\n",
       "      <td>1.640625e+00</td>\n",
       "      <td>1</td>\n",
       "    </tr>\n",
       "    <tr>\n",
       "      <th>78</th>\n",
       "      <td>79</td>\n",
       "      <td>44.000000</td>\n",
       "      <td>105.000000</td>\n",
       "      <td>5.500000</td>\n",
       "      <td>1.640625e+00</td>\n",
       "      <td>1</td>\n",
       "    </tr>\n",
       "    <tr>\n",
       "      <th>79</th>\n",
       "      <td>80</td>\n",
       "      <td>40.000000</td>\n",
       "      <td>105.000000</td>\n",
       "      <td>5.000000</td>\n",
       "      <td>1.640625e+00</td>\n",
       "      <td>1</td>\n",
       "    </tr>\n",
       "    <tr>\n",
       "      <th>80</th>\n",
       "      <td>81</td>\n",
       "      <td>15.000000</td>\n",
       "      <td>105.000000</td>\n",
       "      <td>1.875000</td>\n",
       "      <td>1.640625e+00</td>\n",
       "      <td>1</td>\n",
       "    </tr>\n",
       "  </tbody>\n",
       "</table>\n",
       "<p>81 rows × 6 columns</p>\n",
       "</div>"
      ],
      "text/plain": [
       "     j        a_j    var(a_j)  lambda_j  var(lambda_j)     n\n",
       "0    1   0.002921    0.000002  0.000365   2.657739e-08  1712\n",
       "1    2   0.236842    0.000149  0.029605   2.335542e-06  1710\n",
       "2    3   0.405738    0.000248  0.050717   3.876833e-06  1708\n",
       "3    4   0.253641    0.000158  0.031705   2.462222e-06  1648\n",
       "4    5   0.330070    0.000251  0.041259   3.929035e-06  1430\n",
       "..  ..        ...         ...       ...            ...   ...\n",
       "76  77  34.000000  105.000000  4.250000   1.640625e+00     1\n",
       "77  78  28.000000  105.000000  3.500000   1.640625e+00     1\n",
       "78  79  44.000000  105.000000  5.500000   1.640625e+00     1\n",
       "79  80  40.000000  105.000000  5.000000   1.640625e+00     1\n",
       "80  81  15.000000  105.000000  1.875000   1.640625e+00     1\n",
       "\n",
       "[81 rows x 6 columns]"
      ]
     },
     "execution_count": 81,
     "metadata": {},
     "output_type": "execute_result"
    }
   ],
   "source": [
    "day_j_incidents"
   ]
  },
  {
   "cell_type": "code",
   "execution_count": 83,
   "metadata": {},
   "outputs": [
    {
     "name": "stderr",
     "output_type": "stream",
     "text": [
      "/home/cytech/miniconda3/envs/fds_logs_analysis/lib/python3.10/site-packages/pandas/plotting/_matplotlib/core.py:1114: UserWarning: No data for colormapping provided via 'c'. Parameters 'cmap' will be ignored\n",
      "  scatter = ax.scatter(\n"
     ]
    },
    {
     "data": {
      "text/plain": [
       "Text(0, 0.5, 'Average incidents per day')"
      ]
     },
     "execution_count": 83,
     "metadata": {},
     "output_type": "execute_result"
    },
    {
     "data": {
      "image/png": "[encoded data removed]",
      "text/plain": [
       "<Figure size 640x480 with 1 Axes>"
      ]
     },
     "metadata": {},
     "output_type": "display_data"
    }
   ],
   "source": [
    "day_j_incidents.plot(x='j', y='lambda_j', kind='scatter')\n",
    "plt.title(\"Average Incidents per day\")\n",
    "plt.xlabel(\"Day\")\n",
    "plt.ylabel(\"Average incidents per day\")"
   ]
  },
  {
   "cell_type": "markdown",
   "metadata": {},
   "source": [
    "We can now use a naive regression to express the average number of incidents per cycle as a power function of the day :"
   ]
  },
  {
   "cell_type": "code",
   "execution_count": 47,
   "metadata": {},
   "outputs": [],
   "source": [
    "def func(x, a, b):\n",
    "    return a * np.power(x, b)"
   ]
  },
  {
   "cell_type": "code",
   "execution_count": 85,
   "metadata": {},
   "outputs": [
    {
     "data": {
      "text/plain": [
       "array([0.0033385 , 1.65558259])"
      ]
     },
     "execution_count": 85,
     "metadata": {},
     "output_type": "execute_result"
    }
   ],
   "source": [
    "f, _ = opt.curve_fit(func, day_j_incidents['j'], day_j_incidents['lambda_j'], sigma = np.sqrt(day_j_incidents['var(lambda_j)']))\n",
    "f"
   ]
  },
  {
   "cell_type": "code",
   "execution_count": 87,
   "metadata": {},
   "outputs": [
    {
     "data": {
      "text/plain": [
       "<matplotlib.legend.Legend at 0x7f1d82ab00d0>"
      ]
     },
     "execution_count": 87,
     "metadata": {},
     "output_type": "execute_result"
    },
    {
     "data": {
      "image/png": "[encoded data removed]",
      "text/plain": [
       "<Figure size 640x480 with 1 Axes>"
      ]
     },
     "metadata": {},
     "output_type": "display_data"
    }
   ],
   "source": [
    "day_j_incidents.plot(x='j', y='lambda_j', kind='scatter')\n",
    "\n",
    "j = day_j_incidents['j']\n",
    "f_j = f[0] * np.power(j, f[1])\n",
    "\n",
    "plt.plot(j, f_j, color='red')\n",
    "\n",
    "plt.title(\"Average Incidents per day\")\n",
    "plt.xlabel(\"Day\")\n",
    "plt.ylabel(\"Average incidents per day\")\n",
    "plt.legend(['Data', 'Fitted curve'])"
   ]
  },
  {
   "cell_type": "markdown",
   "metadata": {},
   "source": [
    "We have $\\lambda_{day} \\simeq 3.3 \\times 10^{-3} \\times day^{1.7}$."
   ]
  }
 ],
 "metadata": {
  "kernelspec": {
   "display_name": "Python 3.10.4 ('fds_logs_analysis')",
   "language": "python",
   "name": "python3"
  },
  "language_info": {
   "codemirror_mode": {
    "name": "ipython",
    "version": 3
   },
   "file_extension": ".py",
   "mimetype": "text/x-python",
   "name": "python",
   "nbconvert_exporter": "python",
   "pygments_lexer": "ipython3",
   "version": "3.10.4"
  },
  "orig_nbformat": 4,
  "vscode": {
   "interpreter": {
    "hash": "d6cece7a7a1ea6f2fd7e50a3adadbb07fd844ec67e2d371e89f6920f68a708cf"
   }
  }
 },
 "nbformat": 4,
 "nbformat_minor": 2
}
